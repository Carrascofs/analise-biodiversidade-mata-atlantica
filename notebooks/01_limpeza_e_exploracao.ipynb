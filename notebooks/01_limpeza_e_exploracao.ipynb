{
 "cells": [
  {
   "cell_type": "markdown",
   "id": "9793f680",
   "metadata": {},
   "source": [
    "# Análise de Biodiversidade da Mata Atlântica\n",
    "\n",
    "## Objetivo\n",
    "Analisar dados de espécies ameaçadas da Mata Atlântica usando dados do Sistema SALVE (ICMBio) para identificar padrões de biodiversidade e conservação.\n",
    "\n",
    "## Fontes de Dados\n",
    "- *ICMBio SALVE*: Sistema de Avaliação do Risco de Extinção da Biodiversidade\n",
    "- *SiBBr*: Dados de ocorrência em Unidades de Conservação\n",
    "- *Portal de Dados Abertos*: Datasets governamentais"
   ]
  },
  {
   "cell_type": "code",
   "execution_count": 1,
   "id": "3017bdda",
   "metadata": {},
   "outputs": [
    {
     "name": "stderr",
     "output_type": "stream",
     "text": [
      "c:\\Users\\Felipe\\AppData\\Local\\Programs\\Python\\Python311\\Lib\\site-packages\\seaborn\\_statistics.py:32: UserWarning: A NumPy version >=1.23.5 and <2.3.0 is required for this version of SciPy (detected version 2.3.2)\n",
      "  from scipy.stats import gaussian_kde\n"
     ]
    }
   ],
   "source": [
    "# Importar bibliotecas necessárias\n",
    "import pandas as pd\n",
    "import numpy as np\n",
    "import matplotlib.pyplot as plt\n",
    "import seaborn as sns\n",
    "import requests\n",
    "import json\n",
    "from datetime import datetime\n",
    "import warnings\n",
    "warnings.filterwarnings('ignore')"
   ]
  },
  {
   "cell_type": "code",
   "execution_count": 2,
   "id": "0897148e",
   "metadata": {},
   "outputs": [
    {
     "name": "stdout",
     "output_type": "stream",
     "text": [
      "Bibliotecas importadas com sucesso!\n",
      "Análise iniciada em: 2025-08-19 10:59:44\n"
     ]
    }
   ],
   "source": [
    "# Configurar visualizações\n",
    "plt.style.use('seaborn-v0_8')\n",
    "sns.set_palette(\"husl\")\n",
    "%matplotlib inline\n",
    "\n",
    "print(\"Bibliotecas importadas com sucesso!\")\n",
    "print(f\"Análise iniciada em: {datetime.now().strftime('%Y-%m-%d %H:%M:%S')}\")\n"
   ]
  },
  {
   "cell_type": "code",
   "execution_count": null,
   "id": "d26897ea",
   "metadata": {},
   "outputs": [],
   "source": [
    "# Função para testar conectividade com APIs do ICMBio\n",
    "def testar_apis_icmbio():\n",
    "    \"\"\"Testa conectividade com diferentes APIs do ICMBio\"\"\"\n",
    "    \n",
    "    apis_teste = {\n",
    "        'SALVE_BASE': 'https://salve.icmbio.gov.br/',\n",
    "        'SIBBR': 'https://collectory.sibbr.gov.br/collectory/public/show/dr327'\n",
    "    }\n",
    "    headers = {\n",
    "    \"User-Agent\": \"Mozilla/5.0 (Windows NT 10.0; Win64; x64) \"\n",
    "                  \"AppleWebKit/537.36 (KHTML, like Gecko) \"\n",
    "                  \"Chrome/139.0.0.0 Safari/537.36\",\n",
    "    \"Accept\": \"text/html,application/xhtml+xml,application/xml;q=0.9,image/avif,image/webp,image/apng,*/*;q=0.8,application/signed-exchange;v=b3;q=0.7\",\n",
    "    \"Accept-Language\": \"pt-BR,pt;q=0.9,en-US;q=0.8,en;q=0.7\",\n",
    "    \"Cookie\": \"_ga_PFEFY1YDX4=GS2.1.s1755612408$o1$g0$t1755612408$j60$l0$h0; _ga=GA1.1.1874639878.1755612409\",\n",
    "    \"Connection\": \"keep-alive\"\n",
    "    }\n",
    "\n",
    "\n",
    "    resultados = {}\n",
    "    \n",
    "    for nome, url in apis_teste.items():\n",
    "        try:\n",
    "            response = requests.get(url, headers = headers, timeout=10)\n",
    "            resultados[nome] = {\n",
    "                'status': response.status_code,\n",
    "                'acessivel': response.status_code == 200,\n",
    "                'tamanho': len(response.content) if response.status_code == 200 else 0\n",
    "            }\n",
    "            print(f\"{nome}: {response.status_code} - {'Acessível' if response.status_code == 200 else 'Erro'}\")\n",
    "        except Exception as e:\n",
    "            resultados[nome] = {\n",
    "                'status': 'Erro',\n",
    "                'acessivel': False,\n",
    "                'erro': str(e)\n",
    "            }\n",
    "            print(f\"{nome}: Erro - {str(e)}\")\n",
    "    \n",
    "    return resultados"
   ]
  },
  {
   "cell_type": "code",
   "execution_count": 10,
   "id": "be15b011",
   "metadata": {},
   "outputs": [
    {
     "name": "stdout",
     "output_type": "stream",
     "text": [
      "Testando conectividade com APIs do ICMBio...\n",
      "SALVE_BASE: 403 - Erro\n",
      "SIBBR: 200 - Acessível\n"
     ]
    }
   ],
   "source": [
    "# Testar APIs\n",
    "print(\"Testando conectividade com APIs do ICMBio...\")\n",
    "status_apis = testar_apis_icmbio()"
   ]
  },
  {
   "cell_type": "code",
   "execution_count": 34,
   "id": "04a5ddbb",
   "metadata": {},
   "outputs": [
    {
     "ename": "ParserError",
     "evalue": "Error tokenizing data. C error: Expected 35 fields in line 240, saw 38\n",
     "output_type": "error",
     "traceback": [
      "\u001b[1;31m---------------------------------------------------------------------------\u001b[0m",
      "\u001b[1;31mParserError\u001b[0m                               Traceback (most recent call last)",
      "Cell \u001b[1;32mIn[34], line 3\u001b[0m\n\u001b[0;32m      1\u001b[0m \u001b[38;5;66;03m# Planilha de espécies do Bioma Mata Atlântica foi baixada manualmente do site SALVE\u001b[39;00m\n\u001b[0;32m      2\u001b[0m \u001b[38;5;66;03m# LICMBio, 2025. Sistema de Avaliação do Risco de Extinção da Biodiversidade – SALVE. Disponível em: https://salve.icmbio.gov.br/. Acesso em: 19 de Aug. de 2025.\u001b[39;00m\n\u001b[1;32m----> 3\u001b[0m df \u001b[38;5;241m=\u001b[39m \u001b[43mpd\u001b[49m\u001b[38;5;241;43m.\u001b[39;49m\u001b[43mread_csv\u001b[49m\u001b[43m(\u001b[49m\u001b[38;5;124;43m\"\u001b[39;49m\u001b[38;5;124;43m../data/raw/Salve_Mata_Atlantica.csv\u001b[39;49m\u001b[38;5;124;43m\"\u001b[39;49m\u001b[43m)\u001b[49m\n",
      "File \u001b[1;32mc:\\Users\\Felipe\\AppData\\Local\\Programs\\Python\\Python311\\Lib\\site-packages\\pandas\\io\\parsers\\readers.py:1026\u001b[0m, in \u001b[0;36mread_csv\u001b[1;34m(filepath_or_buffer, sep, delimiter, header, names, index_col, usecols, dtype, engine, converters, true_values, false_values, skipinitialspace, skiprows, skipfooter, nrows, na_values, keep_default_na, na_filter, verbose, skip_blank_lines, parse_dates, infer_datetime_format, keep_date_col, date_parser, date_format, dayfirst, cache_dates, iterator, chunksize, compression, thousands, decimal, lineterminator, quotechar, quoting, doublequote, escapechar, comment, encoding, encoding_errors, dialect, on_bad_lines, delim_whitespace, low_memory, memory_map, float_precision, storage_options, dtype_backend)\u001b[0m\n\u001b[0;32m   1013\u001b[0m kwds_defaults \u001b[38;5;241m=\u001b[39m _refine_defaults_read(\n\u001b[0;32m   1014\u001b[0m     dialect,\n\u001b[0;32m   1015\u001b[0m     delimiter,\n\u001b[1;32m   (...)\u001b[0m\n\u001b[0;32m   1022\u001b[0m     dtype_backend\u001b[38;5;241m=\u001b[39mdtype_backend,\n\u001b[0;32m   1023\u001b[0m )\n\u001b[0;32m   1024\u001b[0m kwds\u001b[38;5;241m.\u001b[39mupdate(kwds_defaults)\n\u001b[1;32m-> 1026\u001b[0m \u001b[38;5;28;01mreturn\u001b[39;00m \u001b[43m_read\u001b[49m\u001b[43m(\u001b[49m\u001b[43mfilepath_or_buffer\u001b[49m\u001b[43m,\u001b[49m\u001b[43m \u001b[49m\u001b[43mkwds\u001b[49m\u001b[43m)\u001b[49m\n",
      "File \u001b[1;32mc:\\Users\\Felipe\\AppData\\Local\\Programs\\Python\\Python311\\Lib\\site-packages\\pandas\\io\\parsers\\readers.py:626\u001b[0m, in \u001b[0;36m_read\u001b[1;34m(filepath_or_buffer, kwds)\u001b[0m\n\u001b[0;32m    623\u001b[0m     \u001b[38;5;28;01mreturn\u001b[39;00m parser\n\u001b[0;32m    625\u001b[0m \u001b[38;5;28;01mwith\u001b[39;00m parser:\n\u001b[1;32m--> 626\u001b[0m     \u001b[38;5;28;01mreturn\u001b[39;00m \u001b[43mparser\u001b[49m\u001b[38;5;241;43m.\u001b[39;49m\u001b[43mread\u001b[49m\u001b[43m(\u001b[49m\u001b[43mnrows\u001b[49m\u001b[43m)\u001b[49m\n",
      "File \u001b[1;32mc:\\Users\\Felipe\\AppData\\Local\\Programs\\Python\\Python311\\Lib\\site-packages\\pandas\\io\\parsers\\readers.py:1923\u001b[0m, in \u001b[0;36mTextFileReader.read\u001b[1;34m(self, nrows)\u001b[0m\n\u001b[0;32m   1916\u001b[0m nrows \u001b[38;5;241m=\u001b[39m validate_integer(\u001b[38;5;124m\"\u001b[39m\u001b[38;5;124mnrows\u001b[39m\u001b[38;5;124m\"\u001b[39m, nrows)\n\u001b[0;32m   1917\u001b[0m \u001b[38;5;28;01mtry\u001b[39;00m:\n\u001b[0;32m   1918\u001b[0m     \u001b[38;5;66;03m# error: \"ParserBase\" has no attribute \"read\"\u001b[39;00m\n\u001b[0;32m   1919\u001b[0m     (\n\u001b[0;32m   1920\u001b[0m         index,\n\u001b[0;32m   1921\u001b[0m         columns,\n\u001b[0;32m   1922\u001b[0m         col_dict,\n\u001b[1;32m-> 1923\u001b[0m     ) \u001b[38;5;241m=\u001b[39m \u001b[38;5;28;43mself\u001b[39;49m\u001b[38;5;241;43m.\u001b[39;49m\u001b[43m_engine\u001b[49m\u001b[38;5;241;43m.\u001b[39;49m\u001b[43mread\u001b[49m\u001b[43m(\u001b[49m\u001b[43m  \u001b[49m\u001b[38;5;66;43;03m# type: ignore[attr-defined]\u001b[39;49;00m\n\u001b[0;32m   1924\u001b[0m \u001b[43m        \u001b[49m\u001b[43mnrows\u001b[49m\n\u001b[0;32m   1925\u001b[0m \u001b[43m    \u001b[49m\u001b[43m)\u001b[49m\n\u001b[0;32m   1926\u001b[0m \u001b[38;5;28;01mexcept\u001b[39;00m \u001b[38;5;167;01mException\u001b[39;00m:\n\u001b[0;32m   1927\u001b[0m     \u001b[38;5;28mself\u001b[39m\u001b[38;5;241m.\u001b[39mclose()\n",
      "File \u001b[1;32mc:\\Users\\Felipe\\AppData\\Local\\Programs\\Python\\Python311\\Lib\\site-packages\\pandas\\io\\parsers\\c_parser_wrapper.py:234\u001b[0m, in \u001b[0;36mCParserWrapper.read\u001b[1;34m(self, nrows)\u001b[0m\n\u001b[0;32m    232\u001b[0m \u001b[38;5;28;01mtry\u001b[39;00m:\n\u001b[0;32m    233\u001b[0m     \u001b[38;5;28;01mif\u001b[39;00m \u001b[38;5;28mself\u001b[39m\u001b[38;5;241m.\u001b[39mlow_memory:\n\u001b[1;32m--> 234\u001b[0m         chunks \u001b[38;5;241m=\u001b[39m \u001b[38;5;28;43mself\u001b[39;49m\u001b[38;5;241;43m.\u001b[39;49m\u001b[43m_reader\u001b[49m\u001b[38;5;241;43m.\u001b[39;49m\u001b[43mread_low_memory\u001b[49m\u001b[43m(\u001b[49m\u001b[43mnrows\u001b[49m\u001b[43m)\u001b[49m\n\u001b[0;32m    235\u001b[0m         \u001b[38;5;66;03m# destructive to chunks\u001b[39;00m\n\u001b[0;32m    236\u001b[0m         data \u001b[38;5;241m=\u001b[39m _concatenate_chunks(chunks)\n",
      "File \u001b[1;32mpandas/_libs/parsers.pyx:838\u001b[0m, in \u001b[0;36mpandas._libs.parsers.TextReader.read_low_memory\u001b[1;34m()\u001b[0m\n",
      "File \u001b[1;32mpandas/_libs/parsers.pyx:905\u001b[0m, in \u001b[0;36mpandas._libs.parsers.TextReader._read_rows\u001b[1;34m()\u001b[0m\n",
      "File \u001b[1;32mpandas/_libs/parsers.pyx:874\u001b[0m, in \u001b[0;36mpandas._libs.parsers.TextReader._tokenize_rows\u001b[1;34m()\u001b[0m\n",
      "File \u001b[1;32mpandas/_libs/parsers.pyx:891\u001b[0m, in \u001b[0;36mpandas._libs.parsers.TextReader._check_tokenize_status\u001b[1;34m()\u001b[0m\n",
      "File \u001b[1;32mpandas/_libs/parsers.pyx:2061\u001b[0m, in \u001b[0;36mpandas._libs.parsers.raise_parser_error\u001b[1;34m()\u001b[0m\n",
      "\u001b[1;31mParserError\u001b[0m: Error tokenizing data. C error: Expected 35 fields in line 240, saw 38\n"
     ]
    }
   ],
   "source": [
    "# Planilha de espécies do Bioma Mata Atlântica foi baixada manualmente do site SALVE\n",
    "# LICMBio, 2025. Sistema de Avaliação do Risco de Extinção da Biodiversidade – SALVE. Disponível em: https://salve.icmbio.gov.br/. Acesso em: 19 de Aug. de 2025.\n",
    "df = pd.read_csv(\"../data/raw/Salve_Mata_Atlantica.csv\")"
   ]
  },
  {
   "cell_type": "code",
   "execution_count": 35,
   "id": "707702d5",
   "metadata": {},
   "outputs": [
    {
     "name": "stdout",
     "output_type": "stream",
     "text": [
      "Arquivo lido com sucesso! Linhas lidas: 6206\n"
     ]
    }
   ],
   "source": [
    "# como a leitura da planilha apresentou erro de parsing, vamos tentar descobrir o problema\n",
    "# Testar diferentes parâmetros de leitura\n",
    "\n",
    "try:\n",
    "    df = pd.read_csv(\n",
    "        \"../data/raw/Salve_Mata_Atlantica.csv\",\n",
    "        encoding=\"utf-8\",    # ou 'latin1' se necessário\n",
    "        sep=\",\",             # ou ';' se necessário\n",
    "        engine=\"python\",\n",
    "        on_bad_lines='skip'  # ignora linhas problemáticas\n",
    "    )\n",
    "    print(f\"Arquivo lido com sucesso! Linhas lidas: {len(df)}\")\n",
    "except Exception as e:\n",
    "    print(\"Erro ao ler o CSV:\", e)"
   ]
  },
  {
   "cell_type": "code",
   "execution_count": 36,
   "id": "bd031678",
   "metadata": {},
   "outputs": [
    {
     "name": "stdout",
     "output_type": "stream",
     "text": [
      "Linhas no arquivo original: 6239\n",
      "Linhas lidas pelo pandas: 6206\n",
      "Linhas puladas: 33\n"
     ]
    }
   ],
   "source": [
    "# parece que algumas linhas estão mal formatadas, vamos contar quantas linhas foram puladas\n",
    "\n",
    "with open(\"../data/raw/Salve_Mata_Atlantica.csv\", encoding=\"utf-8\") as f:\n",
    "    total_linhas = sum(1 for _ in f)\n",
    "print(f\"Linhas no arquivo original: {total_linhas}\")\n",
    "print(f\"Linhas lidas pelo pandas: {len(df)}\")\n",
    "print(f\"Linhas puladas: {total_linhas - len(df)}\")"
   ]
  },
  {
   "cell_type": "code",
   "execution_count": null,
   "id": "a9ef4b98",
   "metadata": {},
   "outputs": [
    {
     "name": "stdout",
     "output_type": "stream",
     "text": [
      "Colunas disponíveis no arquivo:\n",
      "Reino\n",
      "Filo\n",
      "Classe\n",
      "Ordem\n",
      "Familia\n",
      "Genero\n",
      "Especie\n",
      "Subespecie\n",
      "Nome_Cientifico_Anterior\n",
      "Autor\n",
      "Nome_Comum\n",
      "Grupo\n",
      "Mes_Ano_Avaliacao\n",
      "Categoria\n",
      "Possivemente_Extinta\n",
      "Criterio\n",
      "Justificativa\n",
      "Endemica_Brasil\n",
      "Consta_em_Lista_Nacional_Oficial\n",
      "Estado\n",
      "Regiao\n",
      "Bioma\n",
      "Bacia_Hidrografica\n",
      "Unidade_de_Conservacao_Federal\n",
      "Unidade_de_Conservacao_Estadual\n",
      "RPPN\n",
      "Migratoria\n",
      "Tendencia_Populacional\n",
      "Ameaca\n",
      "Uso\n",
      "Acao_Conservacao\n",
      "Plano_de_Acao\n",
      "Listas_e_Convencoes\n",
      "Altitude_min_max_\n",
      "Barimetria_min_max_\n"
     ]
    }
   ],
   "source": [
    "# Vamos descobrir quais são as colunas disponíveis no arquivo\n",
    "# Com isso, podemos tentar ler a planilha original somente com as colunas que nos interessam\n",
    "colunas = pd.read_csv(\n",
    "    \"../data/raw/Salve_Mata_Atlantica.csv\",\n",
    "    encoding=\"utf-8\",\n",
    "    sep=\",\",\n",
    "    nrows=0\n",
    ").columns.tolist()\n",
    "\n",
    "print(\"Colunas disponíveis no arquivo:\")\n",
    "for c in colunas:\n",
    "    print(c)"
   ]
  },
  {
   "cell_type": "code",
   "execution_count": 37,
   "id": "84be2d2d",
   "metadata": {},
   "outputs": [
    {
     "name": "stdout",
     "output_type": "stream",
     "text": [
      "      Reino        Filo          Classe            Ordem         Familia  \\\n",
      "0  Animalia  Arthropoda         Insecta      Hymenoptera          Apidae   \n",
      "1  Animalia    Chordata  Actinopterygii     Siluriformes    Loricariidae   \n",
      "2  Animalia    Chordata  Actinopterygii    Characiformes      Bryconidae   \n",
      "3  Animalia    Chordata        Reptilia         Squamata  Amphisbaenidae   \n",
      "4  Animalia    Mollusca      Gastropoda  Caenogastropoda        Tateidae   \n",
      "\n",
      "          Genero                 Especie                         Autor  \\\n",
      "0        Plebeia        Plebeia grapiuna            Melo & Costa, 2009   \n",
      "1  Pareiorhaphis   Pareiorhaphis scutula  Pereira, Vieira & Reis, 2010   \n",
      "2         Brycon           Brycon dulcis           Lima & Vieira, 2017   \n",
      "3    Amphisbaena  Amphisbaena nigricauda                    Gans, 1966   \n",
      "4   Potamolithus  Potamolithus karsticus    Simone & Moracchioli, 1994   \n",
      "\n",
      "                          Nome_Comum                       Grupo  ...  \\\n",
      "0                                NaN    Invertebrados Terrestres  ...   \n",
      "1                                NaN         Peixes Continentais  ...   \n",
      "2                           Piabanha         Peixes Continentais  ...   \n",
      "3  Cobra-cega, Cobra-de-duas-cabeças                     Répteis  ...   \n",
      "4                Caramujo-de-caverna  Invertebrados de Água Doce  ...   \n",
      "\n",
      "  Possivemente_Extinta            Criterio  \\\n",
      "0                  NaN                 NaN   \n",
      "1                  NaN           B1ab(iii)   \n",
      "2                  NaN         B2ab(iii,v)   \n",
      "3                  NaN        B1ab(ii,iii)   \n",
      "4                  NaN  B1ab(iii)+2ab(iii)   \n",
      "\n",
      "                                       Justificativa Endemica_Brasil  \\\n",
      "0  Plebeia grapiuna é endêmica do Brasil, registr...             Sim   \n",
      "1  Pareiorhaphis scutula é endêmica do Brasil e c...             Sim   \n",
      "2  Brycon dulcis é endêmica do Brasil e ocorre na...             Sim   \n",
      "3  Amphisbaena nigricauda é endêmica do Brasil, o...             Sim   \n",
      "4  Potamolithus karsticus é endêmica do Brasil, d...             Sim   \n",
      "\n",
      "  Consta_em_Lista_Nacional_Oficial                        Estado  \\\n",
      "0                              Não                         Bahia   \n",
      "1                              Sim                  Minas Gerais   \n",
      "2                              Não  Espírito Santo, Minas Gerais   \n",
      "3                              Sim         Bahia, Espírito Santo   \n",
      "4                              Sim                     São Paulo   \n",
      "\n",
      "               Regiao           Bioma Tendencia_Populacional  \\\n",
      "0          |Nordeste|  Mata Atlântica           Desconhecida   \n",
      "1           |Sudeste|  Mata Atlântica           Desconhecida   \n",
      "2           |Sudeste|  Mata Atlântica             Declinando   \n",
      "3  |Nordeste|Sudeste|  Mata Atlântica           Desconhecida   \n",
      "4           |Sudeste|  Mata Atlântica           Desconhecida   \n",
      "\n",
      "                                              Ameaca  \n",
      "0  1 - Desenvolvimento residencial e comercial|1....  \n",
      "1  3 - Produção energética e mineração|3.2 - Mine...  \n",
      "2  3 - Produção energética e mineração|3.2 - Mine...  \n",
      "3  1 - Desenvolvimento residencial e comercial|1....  \n",
      "4  2 - Agropecuária e Aquacultura|2.3 - Pecuária ...  \n",
      "\n",
      "[5 rows x 22 columns]\n"
     ]
    }
   ],
   "source": [
    "# Agora que sabemos as colunas, vamos tentar ler apenas as que nos interessam\n",
    "colunas_desejadas = [\n",
    "    \"Reino\",\n",
    "    \"Filo\",\n",
    "    \"Classe\",\n",
    "    \"Ordem\",\n",
    "    \"Familia\",\n",
    "    \"Genero\",\n",
    "    \"Especie\",\n",
    "    \"Autor\",\n",
    "    \"Nome_Comum\",\n",
    "    \"Grupo\",\n",
    "    \"Mes_Ano_Avaliacao\",\n",
    "    \"Categoria\",\n",
    "    \"Possivemente_Extinta\",\n",
    "    \"Criterio\",\n",
    "    \"Justificativa\",\n",
    "    \"Endemica_Brasil\",\n",
    "    \"Consta_em_Lista_Nacional_Oficial\",\n",
    "    \"Estado\",\n",
    "    \"Regiao\",\n",
    "    \"Bioma\",\n",
    "    \"Tendencia_Populacional\",\n",
    "    \"Ameaca\"\n",
    "]\n",
    "\n",
    "df = pd.read_csv(\n",
    "    \"../data/raw/Salve_Mata_Atlantica.csv\",\n",
    "    encoding=\"utf-8\",\n",
    "    sep=\",\",\n",
    "    usecols=colunas_desejadas\n",
    ")\n",
    "\n",
    "print(df.head())"
   ]
  },
  {
   "cell_type": "code",
   "execution_count": null,
   "id": "a695ef69",
   "metadata": {},
   "outputs": [],
   "source": []
  }
 ],
 "metadata": {
  "kernelspec": {
   "display_name": "Python 3",
   "language": "python",
   "name": "python3"
  },
  "language_info": {
   "codemirror_mode": {
    "name": "ipython",
    "version": 3
   },
   "file_extension": ".py",
   "mimetype": "text/x-python",
   "name": "python",
   "nbconvert_exporter": "python",
   "pygments_lexer": "ipython3",
   "version": "3.11.2"
  }
 },
 "nbformat": 4,
 "nbformat_minor": 5
}
